{
 "cells": [
  {
   "cell_type": "markdown",
   "id": "734376e0",
   "metadata": {},
   "source": [
    "# Monty Hall problem simulation"
   ]
  },
  {
   "cell_type": "code",
   "execution_count": 6,
   "id": "91022f9c",
   "metadata": {},
   "outputs": [],
   "source": [
    "import random\n",
    "\n",
    "def game(change_door_strategy):\n",
    "    winning_doors = random.randint(0, 2)\n",
    "    user_doors = random.randint(0, 2)\n",
    "    if change_door_strategy:\n",
    "        doors_to_open = random.choice(list({0, 1, 2} - {user_doors} - {winning_doors}))\n",
    "        user_doors = list({0, 1, 2} - {user_doors, doors_to_open})[0]\n",
    "    return user_doors == winning_doors"
   ]
  },
  {
   "cell_type": "code",
   "execution_count": null,
   "id": "f8ba5c93",
   "metadata": {},
   "outputs": [],
   "source": [
    "%%time\n",
    "\n",
    "N = 100000\n",
    "\n",
    "change_dors_wins = 0\n",
    "dont_change_dors_wins = 0\n",
    "\n",
    "for _ in range(N):\n",
    "    if game(True):\n",
    "        change_dors_wins += 1\n",
    "    if game(False):\n",
    "        dont_change_dors_wins += 1\n",
    "        \n",
    "print('Winning chance with change door strategy: ', change_dors_wins/N)\n",
    "print('Winning chance with not changing doors: ', dont_change_dors_wins/N)"
   ]
  },
  {
   "cell_type": "code",
   "execution_count": null,
   "id": "7e05c319",
   "metadata": {},
   "outputs": [],
   "source": []
  }
 ],
 "metadata": {
  "kernelspec": {
   "display_name": "Python 3 (ipykernel)",
   "language": "python",
   "name": "python3"
  },
  "language_info": {
   "codemirror_mode": {
    "name": "ipython",
    "version": 3
   },
   "file_extension": ".py",
   "mimetype": "text/x-python",
   "name": "python",
   "nbconvert_exporter": "python",
   "pygments_lexer": "ipython3",
   "version": "3.8.9"
  }
 },
 "nbformat": 4,
 "nbformat_minor": 5
}
